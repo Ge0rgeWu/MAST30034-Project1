{
 "cells": [
  {
   "cell_type": "code",
   "execution_count": 1,
   "id": "1157a336",
   "metadata": {},
   "outputs": [],
   "source": [
    "import pandas as pd\n",
    "import numpy as np\n",
    "\n",
    "import matplotlib.pyplot as plt\n",
    "import matplotlib as mpl\n",
    "plt.style.use('ggplot')\n",
    "%matplotlib inline"
   ]
  },
  {
   "cell_type": "code",
   "execution_count": 38,
   "id": "9771ebc2",
   "metadata": {},
   "outputs": [],
   "source": [
    "#read data\n",
    "datalist =[]\n",
    "for i in range(6):\n",
    "    url=\"https://d37ci6vzurychx.cloudfront.net/trip-data/yellow_tripdata_2022-0\"+str(i+1)+\".parquet\"\n",
    "    c=pd.read_parquet(url)\n",
    "    datalist.append(c)\n",
    "data = pd.concat(datalist)"
   ]
  },
  {
   "cell_type": "code",
   "execution_count": 39,
   "id": "8bda764b",
   "metadata": {},
   "outputs": [
    {
     "name": "stdout",
     "output_type": "stream",
     "text": [
      "Index(['VendorID', 'tpep_pickup_datetime', 'tpep_dropoff_datetime',\n",
      "       'passenger_count', 'trip_distance', 'RatecodeID', 'store_and_fwd_flag',\n",
      "       'PULocationID', 'DOLocationID', 'payment_type', 'fare_amount', 'extra',\n",
      "       'mta_tax', 'tip_amount', 'tolls_amount', 'improvement_surcharge',\n",
      "       'total_amount', 'congestion_surcharge', 'airport_fee'],\n",
      "      dtype='object')\n",
      "(19817583, 19)\n"
     ]
    }
   ],
   "source": [
    "print(data.columns)\n",
    "print(data.shape)"
   ]
  },
  {
   "cell_type": "code",
   "execution_count": 40,
   "id": "7d27aa8f",
   "metadata": {},
   "outputs": [
    {
     "data": {
      "text/html": [
       "<div>\n",
       "<style scoped>\n",
       "    .dataframe tbody tr th:only-of-type {\n",
       "        vertical-align: middle;\n",
       "    }\n",
       "\n",
       "    .dataframe tbody tr th {\n",
       "        vertical-align: top;\n",
       "    }\n",
       "\n",
       "    .dataframe thead th {\n",
       "        text-align: right;\n",
       "    }\n",
       "</style>\n",
       "<table border=\"1\" class=\"dataframe\">\n",
       "  <thead>\n",
       "    <tr style=\"text-align: right;\">\n",
       "      <th></th>\n",
       "      <th>VendorID</th>\n",
       "      <th>tpep_pickup_datetime</th>\n",
       "      <th>tpep_dropoff_datetime</th>\n",
       "      <th>passenger_count</th>\n",
       "      <th>trip_distance</th>\n",
       "      <th>RatecodeID</th>\n",
       "      <th>store_and_fwd_flag</th>\n",
       "      <th>PULocationID</th>\n",
       "      <th>DOLocationID</th>\n",
       "      <th>payment_type</th>\n",
       "      <th>fare_amount</th>\n",
       "      <th>extra</th>\n",
       "      <th>mta_tax</th>\n",
       "      <th>tip_amount</th>\n",
       "      <th>tolls_amount</th>\n",
       "      <th>improvement_surcharge</th>\n",
       "      <th>total_amount</th>\n",
       "      <th>congestion_surcharge</th>\n",
       "      <th>airport_fee</th>\n",
       "    </tr>\n",
       "  </thead>\n",
       "  <tbody>\n",
       "    <tr>\n",
       "      <th>0</th>\n",
       "      <td>1</td>\n",
       "      <td>2022-01-01 00:35:40</td>\n",
       "      <td>2022-01-01 00:53:29</td>\n",
       "      <td>2.0</td>\n",
       "      <td>3.80</td>\n",
       "      <td>1.0</td>\n",
       "      <td>N</td>\n",
       "      <td>142</td>\n",
       "      <td>236</td>\n",
       "      <td>1</td>\n",
       "      <td>14.5</td>\n",
       "      <td>3.0</td>\n",
       "      <td>0.5</td>\n",
       "      <td>3.65</td>\n",
       "      <td>0.0</td>\n",
       "      <td>0.3</td>\n",
       "      <td>21.95</td>\n",
       "      <td>2.5</td>\n",
       "      <td>0.0</td>\n",
       "    </tr>\n",
       "    <tr>\n",
       "      <th>1</th>\n",
       "      <td>1</td>\n",
       "      <td>2022-01-01 00:33:43</td>\n",
       "      <td>2022-01-01 00:42:07</td>\n",
       "      <td>1.0</td>\n",
       "      <td>2.10</td>\n",
       "      <td>1.0</td>\n",
       "      <td>N</td>\n",
       "      <td>236</td>\n",
       "      <td>42</td>\n",
       "      <td>1</td>\n",
       "      <td>8.0</td>\n",
       "      <td>0.5</td>\n",
       "      <td>0.5</td>\n",
       "      <td>4.00</td>\n",
       "      <td>0.0</td>\n",
       "      <td>0.3</td>\n",
       "      <td>13.30</td>\n",
       "      <td>0.0</td>\n",
       "      <td>0.0</td>\n",
       "    </tr>\n",
       "    <tr>\n",
       "      <th>2</th>\n",
       "      <td>2</td>\n",
       "      <td>2022-01-01 00:53:21</td>\n",
       "      <td>2022-01-01 01:02:19</td>\n",
       "      <td>1.0</td>\n",
       "      <td>0.97</td>\n",
       "      <td>1.0</td>\n",
       "      <td>N</td>\n",
       "      <td>166</td>\n",
       "      <td>166</td>\n",
       "      <td>1</td>\n",
       "      <td>7.5</td>\n",
       "      <td>0.5</td>\n",
       "      <td>0.5</td>\n",
       "      <td>1.76</td>\n",
       "      <td>0.0</td>\n",
       "      <td>0.3</td>\n",
       "      <td>10.56</td>\n",
       "      <td>0.0</td>\n",
       "      <td>0.0</td>\n",
       "    </tr>\n",
       "    <tr>\n",
       "      <th>3</th>\n",
       "      <td>2</td>\n",
       "      <td>2022-01-01 00:25:21</td>\n",
       "      <td>2022-01-01 00:35:23</td>\n",
       "      <td>1.0</td>\n",
       "      <td>1.09</td>\n",
       "      <td>1.0</td>\n",
       "      <td>N</td>\n",
       "      <td>114</td>\n",
       "      <td>68</td>\n",
       "      <td>2</td>\n",
       "      <td>8.0</td>\n",
       "      <td>0.5</td>\n",
       "      <td>0.5</td>\n",
       "      <td>0.00</td>\n",
       "      <td>0.0</td>\n",
       "      <td>0.3</td>\n",
       "      <td>11.80</td>\n",
       "      <td>2.5</td>\n",
       "      <td>0.0</td>\n",
       "    </tr>\n",
       "    <tr>\n",
       "      <th>4</th>\n",
       "      <td>2</td>\n",
       "      <td>2022-01-01 00:36:48</td>\n",
       "      <td>2022-01-01 01:14:20</td>\n",
       "      <td>1.0</td>\n",
       "      <td>4.30</td>\n",
       "      <td>1.0</td>\n",
       "      <td>N</td>\n",
       "      <td>68</td>\n",
       "      <td>163</td>\n",
       "      <td>1</td>\n",
       "      <td>23.5</td>\n",
       "      <td>0.5</td>\n",
       "      <td>0.5</td>\n",
       "      <td>3.00</td>\n",
       "      <td>0.0</td>\n",
       "      <td>0.3</td>\n",
       "      <td>30.30</td>\n",
       "      <td>2.5</td>\n",
       "      <td>0.0</td>\n",
       "    </tr>\n",
       "  </tbody>\n",
       "</table>\n",
       "</div>"
      ],
      "text/plain": [
       "   VendorID tpep_pickup_datetime tpep_dropoff_datetime  passenger_count  \\\n",
       "0         1  2022-01-01 00:35:40   2022-01-01 00:53:29              2.0   \n",
       "1         1  2022-01-01 00:33:43   2022-01-01 00:42:07              1.0   \n",
       "2         2  2022-01-01 00:53:21   2022-01-01 01:02:19              1.0   \n",
       "3         2  2022-01-01 00:25:21   2022-01-01 00:35:23              1.0   \n",
       "4         2  2022-01-01 00:36:48   2022-01-01 01:14:20              1.0   \n",
       "\n",
       "   trip_distance  RatecodeID store_and_fwd_flag  PULocationID  DOLocationID  \\\n",
       "0           3.80         1.0                  N           142           236   \n",
       "1           2.10         1.0                  N           236            42   \n",
       "2           0.97         1.0                  N           166           166   \n",
       "3           1.09         1.0                  N           114            68   \n",
       "4           4.30         1.0                  N            68           163   \n",
       "\n",
       "   payment_type  fare_amount  extra  mta_tax  tip_amount  tolls_amount  \\\n",
       "0             1         14.5    3.0      0.5        3.65           0.0   \n",
       "1             1          8.0    0.5      0.5        4.00           0.0   \n",
       "2             1          7.5    0.5      0.5        1.76           0.0   \n",
       "3             2          8.0    0.5      0.5        0.00           0.0   \n",
       "4             1         23.5    0.5      0.5        3.00           0.0   \n",
       "\n",
       "   improvement_surcharge  total_amount  congestion_surcharge  airport_fee  \n",
       "0                    0.3         21.95                   2.5          0.0  \n",
       "1                    0.3         13.30                   0.0          0.0  \n",
       "2                    0.3         10.56                   0.0          0.0  \n",
       "3                    0.3         11.80                   2.5          0.0  \n",
       "4                    0.3         30.30                   2.5          0.0  "
      ]
     },
     "execution_count": 40,
     "metadata": {},
     "output_type": "execute_result"
    }
   ],
   "source": [
    "data.head()"
   ]
  },
  {
   "cell_type": "code",
   "execution_count": 41,
   "id": "6f6e2594",
   "metadata": {},
   "outputs": [
    {
     "name": "stdout",
     "output_type": "stream",
     "text": [
      "2023-04-18 14:30:05\n",
      "2001-08-23 05:34:45\n",
      "2023-04-18 23:30:39\n",
      "2001-08-23 05:57:11\n"
     ]
    }
   ],
   "source": [
    "print(data[\"tpep_pickup_datetime\"].max())\n",
    "print(data[\"tpep_pickup_datetime\"].min())\n",
    "print(data[\"tpep_dropoff_datetime\"].max())\n",
    "print(data[\"tpep_dropoff_datetime\"].min())"
   ]
  },
  {
   "cell_type": "code",
   "execution_count": 42,
   "id": "a247f17d",
   "metadata": {},
   "outputs": [],
   "source": [
    "data = data[data.tpep_pickup_datetime < '20220701']\n",
    "data = data[data.tpep_pickup_datetime > '20211231']"
   ]
  },
  {
   "cell_type": "code",
   "execution_count": 43,
   "id": "49201f6a",
   "metadata": {},
   "outputs": [
    {
     "name": "stdout",
     "output_type": "stream",
     "text": [
      "2022-06-30 23:59:59\n",
      "2021-12-31 20:28:31\n",
      "2022-07-02 02:00:27\n",
      "2021-12-31 20:33:09\n"
     ]
    }
   ],
   "source": [
    "print(data[\"tpep_pickup_datetime\"].max())\n",
    "print(data[\"tpep_pickup_datetime\"].min())\n",
    "print(data[\"tpep_dropoff_datetime\"].max())\n",
    "print(data[\"tpep_dropoff_datetime\"].min())"
   ]
  },
  {
   "cell_type": "code",
   "execution_count": 44,
   "id": "630233f8",
   "metadata": {},
   "outputs": [],
   "source": [
    "data[\"duration\"] = (data[\"tpep_dropoff_datetime\"] - data[\"tpep_pickup_datetime\"])/ np.timedelta64(1, 'm')"
   ]
  },
  {
   "cell_type": "code",
   "execution_count": 45,
   "id": "9cd4676f",
   "metadata": {},
   "outputs": [
    {
     "data": {
      "text/html": [
       "<div>\n",
       "<style scoped>\n",
       "    .dataframe tbody tr th:only-of-type {\n",
       "        vertical-align: middle;\n",
       "    }\n",
       "\n",
       "    .dataframe tbody tr th {\n",
       "        vertical-align: top;\n",
       "    }\n",
       "\n",
       "    .dataframe thead th {\n",
       "        text-align: right;\n",
       "    }\n",
       "</style>\n",
       "<table border=\"1\" class=\"dataframe\">\n",
       "  <thead>\n",
       "    <tr style=\"text-align: right;\">\n",
       "      <th></th>\n",
       "      <th>VendorID</th>\n",
       "      <th>tpep_pickup_datetime</th>\n",
       "      <th>tpep_dropoff_datetime</th>\n",
       "      <th>passenger_count</th>\n",
       "      <th>trip_distance</th>\n",
       "      <th>RatecodeID</th>\n",
       "      <th>store_and_fwd_flag</th>\n",
       "      <th>PULocationID</th>\n",
       "      <th>DOLocationID</th>\n",
       "      <th>payment_type</th>\n",
       "      <th>fare_amount</th>\n",
       "      <th>extra</th>\n",
       "      <th>mta_tax</th>\n",
       "      <th>tip_amount</th>\n",
       "      <th>tolls_amount</th>\n",
       "      <th>improvement_surcharge</th>\n",
       "      <th>total_amount</th>\n",
       "      <th>congestion_surcharge</th>\n",
       "      <th>airport_fee</th>\n",
       "      <th>duration</th>\n",
       "    </tr>\n",
       "  </thead>\n",
       "  <tbody>\n",
       "    <tr>\n",
       "      <th>0</th>\n",
       "      <td>1</td>\n",
       "      <td>2022-01-01 00:35:40</td>\n",
       "      <td>2022-01-01 00:53:29</td>\n",
       "      <td>2.0</td>\n",
       "      <td>3.80</td>\n",
       "      <td>1.0</td>\n",
       "      <td>N</td>\n",
       "      <td>142</td>\n",
       "      <td>236</td>\n",
       "      <td>1</td>\n",
       "      <td>14.5</td>\n",
       "      <td>3.0</td>\n",
       "      <td>0.5</td>\n",
       "      <td>3.65</td>\n",
       "      <td>0.0</td>\n",
       "      <td>0.3</td>\n",
       "      <td>21.95</td>\n",
       "      <td>2.5</td>\n",
       "      <td>0.0</td>\n",
       "      <td>17.816667</td>\n",
       "    </tr>\n",
       "    <tr>\n",
       "      <th>1</th>\n",
       "      <td>1</td>\n",
       "      <td>2022-01-01 00:33:43</td>\n",
       "      <td>2022-01-01 00:42:07</td>\n",
       "      <td>1.0</td>\n",
       "      <td>2.10</td>\n",
       "      <td>1.0</td>\n",
       "      <td>N</td>\n",
       "      <td>236</td>\n",
       "      <td>42</td>\n",
       "      <td>1</td>\n",
       "      <td>8.0</td>\n",
       "      <td>0.5</td>\n",
       "      <td>0.5</td>\n",
       "      <td>4.00</td>\n",
       "      <td>0.0</td>\n",
       "      <td>0.3</td>\n",
       "      <td>13.30</td>\n",
       "      <td>0.0</td>\n",
       "      <td>0.0</td>\n",
       "      <td>8.400000</td>\n",
       "    </tr>\n",
       "    <tr>\n",
       "      <th>2</th>\n",
       "      <td>2</td>\n",
       "      <td>2022-01-01 00:53:21</td>\n",
       "      <td>2022-01-01 01:02:19</td>\n",
       "      <td>1.0</td>\n",
       "      <td>0.97</td>\n",
       "      <td>1.0</td>\n",
       "      <td>N</td>\n",
       "      <td>166</td>\n",
       "      <td>166</td>\n",
       "      <td>1</td>\n",
       "      <td>7.5</td>\n",
       "      <td>0.5</td>\n",
       "      <td>0.5</td>\n",
       "      <td>1.76</td>\n",
       "      <td>0.0</td>\n",
       "      <td>0.3</td>\n",
       "      <td>10.56</td>\n",
       "      <td>0.0</td>\n",
       "      <td>0.0</td>\n",
       "      <td>8.966667</td>\n",
       "    </tr>\n",
       "    <tr>\n",
       "      <th>3</th>\n",
       "      <td>2</td>\n",
       "      <td>2022-01-01 00:25:21</td>\n",
       "      <td>2022-01-01 00:35:23</td>\n",
       "      <td>1.0</td>\n",
       "      <td>1.09</td>\n",
       "      <td>1.0</td>\n",
       "      <td>N</td>\n",
       "      <td>114</td>\n",
       "      <td>68</td>\n",
       "      <td>2</td>\n",
       "      <td>8.0</td>\n",
       "      <td>0.5</td>\n",
       "      <td>0.5</td>\n",
       "      <td>0.00</td>\n",
       "      <td>0.0</td>\n",
       "      <td>0.3</td>\n",
       "      <td>11.80</td>\n",
       "      <td>2.5</td>\n",
       "      <td>0.0</td>\n",
       "      <td>10.033333</td>\n",
       "    </tr>\n",
       "    <tr>\n",
       "      <th>4</th>\n",
       "      <td>2</td>\n",
       "      <td>2022-01-01 00:36:48</td>\n",
       "      <td>2022-01-01 01:14:20</td>\n",
       "      <td>1.0</td>\n",
       "      <td>4.30</td>\n",
       "      <td>1.0</td>\n",
       "      <td>N</td>\n",
       "      <td>68</td>\n",
       "      <td>163</td>\n",
       "      <td>1</td>\n",
       "      <td>23.5</td>\n",
       "      <td>0.5</td>\n",
       "      <td>0.5</td>\n",
       "      <td>3.00</td>\n",
       "      <td>0.0</td>\n",
       "      <td>0.3</td>\n",
       "      <td>30.30</td>\n",
       "      <td>2.5</td>\n",
       "      <td>0.0</td>\n",
       "      <td>37.533333</td>\n",
       "    </tr>\n",
       "  </tbody>\n",
       "</table>\n",
       "</div>"
      ],
      "text/plain": [
       "   VendorID tpep_pickup_datetime tpep_dropoff_datetime  passenger_count  \\\n",
       "0         1  2022-01-01 00:35:40   2022-01-01 00:53:29              2.0   \n",
       "1         1  2022-01-01 00:33:43   2022-01-01 00:42:07              1.0   \n",
       "2         2  2022-01-01 00:53:21   2022-01-01 01:02:19              1.0   \n",
       "3         2  2022-01-01 00:25:21   2022-01-01 00:35:23              1.0   \n",
       "4         2  2022-01-01 00:36:48   2022-01-01 01:14:20              1.0   \n",
       "\n",
       "   trip_distance  RatecodeID store_and_fwd_flag  PULocationID  DOLocationID  \\\n",
       "0           3.80         1.0                  N           142           236   \n",
       "1           2.10         1.0                  N           236            42   \n",
       "2           0.97         1.0                  N           166           166   \n",
       "3           1.09         1.0                  N           114            68   \n",
       "4           4.30         1.0                  N            68           163   \n",
       "\n",
       "   payment_type  fare_amount  extra  mta_tax  tip_amount  tolls_amount  \\\n",
       "0             1         14.5    3.0      0.5        3.65           0.0   \n",
       "1             1          8.0    0.5      0.5        4.00           0.0   \n",
       "2             1          7.5    0.5      0.5        1.76           0.0   \n",
       "3             2          8.0    0.5      0.5        0.00           0.0   \n",
       "4             1         23.5    0.5      0.5        3.00           0.0   \n",
       "\n",
       "   improvement_surcharge  total_amount  congestion_surcharge  airport_fee  \\\n",
       "0                    0.3         21.95                   2.5          0.0   \n",
       "1                    0.3         13.30                   0.0          0.0   \n",
       "2                    0.3         10.56                   0.0          0.0   \n",
       "3                    0.3         11.80                   2.5          0.0   \n",
       "4                    0.3         30.30                   2.5          0.0   \n",
       "\n",
       "    duration  \n",
       "0  17.816667  \n",
       "1   8.400000  \n",
       "2   8.966667  \n",
       "3  10.033333  \n",
       "4  37.533333  "
      ]
     },
     "execution_count": 45,
     "metadata": {},
     "output_type": "execute_result"
    }
   ],
   "source": [
    "data.head()"
   ]
  },
  {
   "cell_type": "code",
   "execution_count": 46,
   "id": "5dda0f16",
   "metadata": {},
   "outputs": [
    {
     "data": {
      "text/plain": [
       "396341180"
      ]
     },
     "execution_count": 46,
     "metadata": {},
     "output_type": "execute_result"
    }
   ],
   "source": [
    "data.size"
   ]
  },
  {
   "cell_type": "code",
   "execution_count": 47,
   "id": "25439e63",
   "metadata": {},
   "outputs": [],
   "source": [
    "data = data.dropna()"
   ]
  },
  {
   "cell_type": "code",
   "execution_count": 13,
   "id": "9b463f16",
   "metadata": {},
   "outputs": [
    {
     "data": {
      "text/plain": [
       "287177370"
      ]
     },
     "execution_count": 13,
     "metadata": {},
     "output_type": "execute_result"
    }
   ],
   "source": [
    "data.size"
   ]
  },
  {
   "cell_type": "code",
   "execution_count": 14,
   "id": "bedee4be",
   "metadata": {},
   "outputs": [
    {
     "data": {
      "text/html": [
       "<div>\n",
       "<style scoped>\n",
       "    .dataframe tbody tr th:only-of-type {\n",
       "        vertical-align: middle;\n",
       "    }\n",
       "\n",
       "    .dataframe tbody tr th {\n",
       "        vertical-align: top;\n",
       "    }\n",
       "\n",
       "    .dataframe thead th {\n",
       "        text-align: right;\n",
       "    }\n",
       "</style>\n",
       "<table border=\"1\" class=\"dataframe\">\n",
       "  <thead>\n",
       "    <tr style=\"text-align: right;\">\n",
       "      <th></th>\n",
       "      <th>LocationID</th>\n",
       "      <th>Borough</th>\n",
       "      <th>Zone</th>\n",
       "      <th>service_zone</th>\n",
       "    </tr>\n",
       "  </thead>\n",
       "  <tbody>\n",
       "    <tr>\n",
       "      <th>0</th>\n",
       "      <td>1</td>\n",
       "      <td>EWR</td>\n",
       "      <td>Newark Airport</td>\n",
       "      <td>EWR</td>\n",
       "    </tr>\n",
       "    <tr>\n",
       "      <th>1</th>\n",
       "      <td>2</td>\n",
       "      <td>Queens</td>\n",
       "      <td>Jamaica Bay</td>\n",
       "      <td>Boro Zone</td>\n",
       "    </tr>\n",
       "    <tr>\n",
       "      <th>2</th>\n",
       "      <td>3</td>\n",
       "      <td>Bronx</td>\n",
       "      <td>Allerton/Pelham Gardens</td>\n",
       "      <td>Boro Zone</td>\n",
       "    </tr>\n",
       "    <tr>\n",
       "      <th>3</th>\n",
       "      <td>4</td>\n",
       "      <td>Manhattan</td>\n",
       "      <td>Alphabet City</td>\n",
       "      <td>Yellow Zone</td>\n",
       "    </tr>\n",
       "    <tr>\n",
       "      <th>4</th>\n",
       "      <td>5</td>\n",
       "      <td>Staten Island</td>\n",
       "      <td>Arden Heights</td>\n",
       "      <td>Boro Zone</td>\n",
       "    </tr>\n",
       "  </tbody>\n",
       "</table>\n",
       "</div>"
      ],
      "text/plain": [
       "   LocationID        Borough                     Zone service_zone\n",
       "0           1            EWR           Newark Airport          EWR\n",
       "1           2         Queens              Jamaica Bay    Boro Zone\n",
       "2           3          Bronx  Allerton/Pelham Gardens    Boro Zone\n",
       "3           4      Manhattan            Alphabet City  Yellow Zone\n",
       "4           5  Staten Island            Arden Heights    Boro Zone"
      ]
     },
     "execution_count": 14,
     "metadata": {},
     "output_type": "execute_result"
    }
   ],
   "source": [
    "data_zoon = pd.read_csv(\"https://d37ci6vzurychx.cloudfront.net/misc/taxi+_zone_lookup.csv\")\n",
    "data_zoon.head()"
   ]
  },
  {
   "cell_type": "code",
   "execution_count": 15,
   "id": "70727b77",
   "metadata": {},
   "outputs": [],
   "source": [
    "zone_dict = dict(zip(data_zoon.LocationID, data_zoon.Zone))\n",
    "borough_dict = dict(zip(data_zoon.LocationID, data_zoon.Borough))"
   ]
  },
  {
   "cell_type": "code",
   "execution_count": 16,
   "id": "4750daec",
   "metadata": {},
   "outputs": [
    {
     "name": "stderr",
     "output_type": "stream",
     "text": [
      "C:\\Users\\shuka\\AppData\\Local\\Temp\\ipykernel_5256\\2850631663.py:1: SettingWithCopyWarning: \n",
      "A value is trying to be set on a copy of a slice from a DataFrame.\n",
      "Try using .loc[row_indexer,col_indexer] = value instead\n",
      "\n",
      "See the caveats in the documentation: https://pandas.pydata.org/pandas-docs/stable/user_guide/indexing.html#returning-a-view-versus-a-copy\n",
      "  data['pu_zone'] = data.PULocationID.map(zone_dict)\n",
      "C:\\Users\\shuka\\AppData\\Local\\Temp\\ipykernel_5256\\2850631663.py:2: SettingWithCopyWarning: \n",
      "A value is trying to be set on a copy of a slice from a DataFrame.\n",
      "Try using .loc[row_indexer,col_indexer] = value instead\n",
      "\n",
      "See the caveats in the documentation: https://pandas.pydata.org/pandas-docs/stable/user_guide/indexing.html#returning-a-view-versus-a-copy\n",
      "  data['pu_borough'] = data.PULocationID.map(borough_dict)\n",
      "C:\\Users\\shuka\\AppData\\Local\\Temp\\ipykernel_5256\\2850631663.py:3: SettingWithCopyWarning: \n",
      "A value is trying to be set on a copy of a slice from a DataFrame.\n",
      "Try using .loc[row_indexer,col_indexer] = value instead\n",
      "\n",
      "See the caveats in the documentation: https://pandas.pydata.org/pandas-docs/stable/user_guide/indexing.html#returning-a-view-versus-a-copy\n",
      "  data['do_zone'] = data.DOLocationID.map(zone_dict)\n",
      "C:\\Users\\shuka\\AppData\\Local\\Temp\\ipykernel_5256\\2850631663.py:4: SettingWithCopyWarning: \n",
      "A value is trying to be set on a copy of a slice from a DataFrame.\n",
      "Try using .loc[row_indexer,col_indexer] = value instead\n",
      "\n",
      "See the caveats in the documentation: https://pandas.pydata.org/pandas-docs/stable/user_guide/indexing.html#returning-a-view-versus-a-copy\n",
      "  data['do_borough'] = data.DOLocationID.map(borough_dict)\n"
     ]
    }
   ],
   "source": [
    "data['pu_zone'] = data.PULocationID.map(zone_dict)\n",
    "data['pu_borough'] = data.PULocationID.map(borough_dict)\n",
    "data['do_zone'] = data.DOLocationID.map(zone_dict)\n",
    "data['do_borough'] = data.DOLocationID.map(borough_dict)"
   ]
  },
  {
   "cell_type": "code",
   "execution_count": 17,
   "id": "d42dc6ff",
   "metadata": {},
   "outputs": [
    {
     "data": {
      "text/plain": [
       "<AxesSubplot:>"
      ]
     },
     "execution_count": 17,
     "metadata": {},
     "output_type": "execute_result"
    },
    {
     "data": {
      "image/png": "[encoded data removed]",
      "text/plain": [
       "<Figure size 432x288 with 1 Axes>"
      ]
     },
     "metadata": {
      "needs_background": "light"
     },
     "output_type": "display_data"
    }
   ],
   "source": [
    "data['pu_borough'].value_counts().plot(kind='bar')"
   ]
  },
  {
   "cell_type": "code",
   "execution_count": 18,
   "id": "3ce338a9",
   "metadata": {},
   "outputs": [
    {
     "data": {
      "text/plain": [
       "<AxesSubplot:>"
      ]
     },
     "execution_count": 18,
     "metadata": {},
     "output_type": "execute_result"
    },
    {
     "data": {
      "image/png": "[encoded data removed]",
      "text/plain": [
       "<Figure size 432x288 with 1 Axes>"
      ]
     },
     "metadata": {
      "needs_background": "light"
     },
     "output_type": "display_data"
    }
   ],
   "source": [
    "data['do_borough'].value_counts().plot(kind='bar')"
   ]
  },
  {
   "cell_type": "code",
   "execution_count": 19,
   "id": "5a7b4732",
   "metadata": {},
   "outputs": [
    {
     "data": {
      "text/plain": [
       "<AxesSubplot:>"
      ]
     },
     "execution_count": 19,
     "metadata": {},
     "output_type": "execute_result"
    },
    {
     "data": {
      "image/png": "[encoded data removed]",
      "text/plain": [
       "<Figure size 432x288 with 1 Axes>"
      ]
     },
     "metadata": {
      "needs_background": "light"
     },
     "output_type": "display_data"
    }
   ],
   "source": [
    "data['pu_zone'].value_counts()[:10].plot(kind='barh')"
   ]
  },
  {
   "cell_type": "code",
   "execution_count": 20,
   "id": "f1fe043e",
   "metadata": {},
   "outputs": [
    {
     "data": {
      "text/plain": [
       "<AxesSubplot:>"
      ]
     },
     "execution_count": 20,
     "metadata": {},
     "output_type": "execute_result"
    },
    {
     "data": {
      "image/png": "[encoded data removed]",
      "text/plain": [
       "<Figure size 432x288 with 1 Axes>"
      ]
     },
     "metadata": {
      "needs_background": "light"
     },
     "output_type": "display_data"
    }
   ],
   "source": [
    "data['do_zone'].value_counts()[:10].plot(kind='barh')"
   ]
  },
  {
   "cell_type": "code",
   "execution_count": 93,
   "id": "b512c8eb",
   "metadata": {},
   "outputs": [
    {
     "data": {
      "text/html": [
       "<div>\n",
       "<style scoped>\n",
       "    .dataframe tbody tr th:only-of-type {\n",
       "        vertical-align: middle;\n",
       "    }\n",
       "\n",
       "    .dataframe tbody tr th {\n",
       "        vertical-align: top;\n",
       "    }\n",
       "\n",
       "    .dataframe thead th {\n",
       "        text-align: right;\n",
       "    }\n",
       "</style>\n",
       "<table border=\"1\" class=\"dataframe\">\n",
       "  <thead>\n",
       "    <tr style=\"text-align: right;\">\n",
       "      <th></th>\n",
       "      <th>VendorID</th>\n",
       "      <th>passenger_count</th>\n",
       "      <th>trip_distance</th>\n",
       "      <th>RatecodeID</th>\n",
       "      <th>PULocationID</th>\n",
       "      <th>DOLocationID</th>\n",
       "      <th>payment_type</th>\n",
       "      <th>fare_amount</th>\n",
       "      <th>extra</th>\n",
       "      <th>mta_tax</th>\n",
       "      <th>tip_amount</th>\n",
       "      <th>tolls_amount</th>\n",
       "      <th>improvement_surcharge</th>\n",
       "      <th>total_amount</th>\n",
       "      <th>congestion_surcharge</th>\n",
       "      <th>airport_fee</th>\n",
       "      <th>duration</th>\n",
       "    </tr>\n",
       "  </thead>\n",
       "  <tbody>\n",
       "    <tr>\n",
       "      <th>count</th>\n",
       "      <td>1.914516e+07</td>\n",
       "      <td>1.914516e+07</td>\n",
       "      <td>1.914516e+07</td>\n",
       "      <td>1.914516e+07</td>\n",
       "      <td>1.914516e+07</td>\n",
       "      <td>1.914516e+07</td>\n",
       "      <td>1.914516e+07</td>\n",
       "      <td>1.914516e+07</td>\n",
       "      <td>1.914516e+07</td>\n",
       "      <td>1.914516e+07</td>\n",
       "      <td>1.914516e+07</td>\n",
       "      <td>1.914516e+07</td>\n",
       "      <td>1.914516e+07</td>\n",
       "      <td>1.914516e+07</td>\n",
       "      <td>1.914516e+07</td>\n",
       "      <td>1.914516e+07</td>\n",
       "      <td>1.914516e+07</td>\n",
       "    </tr>\n",
       "    <tr>\n",
       "      <th>mean</th>\n",
       "      <td>1.701146e+00</td>\n",
       "      <td>1.396739e+00</td>\n",
       "      <td>3.385810e+00</td>\n",
       "      <td>1.406453e+00</td>\n",
       "      <td>1.650287e+02</td>\n",
       "      <td>1.631831e+02</td>\n",
       "      <td>1.224740e+00</td>\n",
       "      <td>1.403308e+01</td>\n",
       "      <td>1.051895e+00</td>\n",
       "      <td>4.899948e-01</td>\n",
       "      <td>2.627932e+00</td>\n",
       "      <td>4.918875e-01</td>\n",
       "      <td>2.964044e-01</td>\n",
       "      <td>2.066681e+01</td>\n",
       "      <td>2.291229e+00</td>\n",
       "      <td>8.946139e-02</td>\n",
       "      <td>1.668648e+01</td>\n",
       "    </tr>\n",
       "    <tr>\n",
       "      <th>std</th>\n",
       "      <td>4.577557e-01</td>\n",
       "      <td>9.723423e-01</td>\n",
       "      <td>5.118127e+01</td>\n",
       "      <td>5.723373e+00</td>\n",
       "      <td>6.512086e+01</td>\n",
       "      <td>7.020972e+01</td>\n",
       "      <td>4.589775e-01</td>\n",
       "      <td>1.300658e+02</td>\n",
       "      <td>1.256098e+00</td>\n",
       "      <td>8.817076e-02</td>\n",
       "      <td>3.177734e+00</td>\n",
       "      <td>1.960186e+00</td>\n",
       "      <td>4.593910e-02</td>\n",
       "      <td>1.304585e+02</td>\n",
       "      <td>7.328814e-01</td>\n",
       "      <td>3.248929e-01</td>\n",
       "      <td>5.261282e+01</td>\n",
       "    </tr>\n",
       "    <tr>\n",
       "      <th>min</th>\n",
       "      <td>1.000000e+00</td>\n",
       "      <td>0.000000e+00</td>\n",
       "      <td>0.000000e+00</td>\n",
       "      <td>1.000000e+00</td>\n",
       "      <td>1.000000e+00</td>\n",
       "      <td>1.000000e+00</td>\n",
       "      <td>1.000000e+00</td>\n",
       "      <td>-2.564000e+03</td>\n",
       "      <td>-7.000000e+00</td>\n",
       "      <td>-5.000000e-01</td>\n",
       "      <td>-4.100000e+02</td>\n",
       "      <td>-8.300000e+01</td>\n",
       "      <td>-3.000000e-01</td>\n",
       "      <td>-2.567800e+03</td>\n",
       "      <td>-2.500000e+00</td>\n",
       "      <td>-1.250000e+00</td>\n",
       "      <td>-7.175993e+04</td>\n",
       "    </tr>\n",
       "    <tr>\n",
       "      <th>25%</th>\n",
       "      <td>1.000000e+00</td>\n",
       "      <td>1.000000e+00</td>\n",
       "      <td>1.100000e+00</td>\n",
       "      <td>1.000000e+00</td>\n",
       "      <td>1.320000e+02</td>\n",
       "      <td>1.130000e+02</td>\n",
       "      <td>1.000000e+00</td>\n",
       "      <td>7.000000e+00</td>\n",
       "      <td>0.000000e+00</td>\n",
       "      <td>5.000000e-01</td>\n",
       "      <td>9.300000e-01</td>\n",
       "      <td>0.000000e+00</td>\n",
       "      <td>3.000000e-01</td>\n",
       "      <td>1.180000e+01</td>\n",
       "      <td>2.500000e+00</td>\n",
       "      <td>0.000000e+00</td>\n",
       "      <td>7.133333e+00</td>\n",
       "    </tr>\n",
       "    <tr>\n",
       "      <th>50%</th>\n",
       "      <td>2.000000e+00</td>\n",
       "      <td>1.000000e+00</td>\n",
       "      <td>1.830000e+00</td>\n",
       "      <td>1.000000e+00</td>\n",
       "      <td>1.620000e+02</td>\n",
       "      <td>1.620000e+02</td>\n",
       "      <td>1.000000e+00</td>\n",
       "      <td>1.000000e+01</td>\n",
       "      <td>5.000000e-01</td>\n",
       "      <td>5.000000e-01</td>\n",
       "      <td>2.070000e+00</td>\n",
       "      <td>0.000000e+00</td>\n",
       "      <td>3.000000e-01</td>\n",
       "      <td>1.536000e+01</td>\n",
       "      <td>2.500000e+00</td>\n",
       "      <td>0.000000e+00</td>\n",
       "      <td>1.168333e+01</td>\n",
       "    </tr>\n",
       "    <tr>\n",
       "      <th>75%</th>\n",
       "      <td>2.000000e+00</td>\n",
       "      <td>1.000000e+00</td>\n",
       "      <td>3.380000e+00</td>\n",
       "      <td>1.000000e+00</td>\n",
       "      <td>2.340000e+02</td>\n",
       "      <td>2.340000e+02</td>\n",
       "      <td>1.000000e+00</td>\n",
       "      <td>1.550000e+01</td>\n",
       "      <td>2.500000e+00</td>\n",
       "      <td>5.000000e-01</td>\n",
       "      <td>3.240000e+00</td>\n",
       "      <td>0.000000e+00</td>\n",
       "      <td>3.000000e-01</td>\n",
       "      <td>2.180000e+01</td>\n",
       "      <td>2.500000e+00</td>\n",
       "      <td>0.000000e+00</td>\n",
       "      <td>1.881667e+01</td>\n",
       "    </tr>\n",
       "    <tr>\n",
       "      <th>max</th>\n",
       "      <td>2.000000e+00</td>\n",
       "      <td>9.000000e+00</td>\n",
       "      <td>1.843408e+05</td>\n",
       "      <td>9.900000e+01</td>\n",
       "      <td>2.650000e+02</td>\n",
       "      <td>2.650000e+02</td>\n",
       "      <td>5.000000e+00</td>\n",
       "      <td>4.010923e+05</td>\n",
       "      <td>3.350000e+01</td>\n",
       "      <td>1.710000e+01</td>\n",
       "      <td>1.400160e+03</td>\n",
       "      <td>9.118700e+02</td>\n",
       "      <td>3.000000e-01</td>\n",
       "      <td>4.010956e+05</td>\n",
       "      <td>2.750000e+00</td>\n",
       "      <td>1.250000e+00</td>\n",
       "      <td>8.513183e+03</td>\n",
       "    </tr>\n",
       "  </tbody>\n",
       "</table>\n",
       "</div>"
      ],
      "text/plain": [
       "           VendorID  passenger_count  trip_distance    RatecodeID  \\\n",
       "count  1.914516e+07     1.914516e+07   1.914516e+07  1.914516e+07   \n",
       "mean   1.701146e+00     1.396739e+00   3.385810e+00  1.406453e+00   \n",
       "std    4.577557e-01     9.723423e-01   5.118127e+01  5.723373e+00   \n",
       "min    1.000000e+00     0.000000e+00   0.000000e+00  1.000000e+00   \n",
       "25%    1.000000e+00     1.000000e+00   1.100000e+00  1.000000e+00   \n",
       "50%    2.000000e+00     1.000000e+00   1.830000e+00  1.000000e+00   \n",
       "75%    2.000000e+00     1.000000e+00   3.380000e+00  1.000000e+00   \n",
       "max    2.000000e+00     9.000000e+00   1.843408e+05  9.900000e+01   \n",
       "\n",
       "       PULocationID  DOLocationID  payment_type   fare_amount         extra  \\\n",
       "count  1.914516e+07  1.914516e+07  1.914516e+07  1.914516e+07  1.914516e+07   \n",
       "mean   1.650287e+02  1.631831e+02  1.224740e+00  1.403308e+01  1.051895e+00   \n",
       "std    6.512086e+01  7.020972e+01  4.589775e-01  1.300658e+02  1.256098e+00   \n",
       "min    1.000000e+00  1.000000e+00  1.000000e+00 -2.564000e+03 -7.000000e+00   \n",
       "25%    1.320000e+02  1.130000e+02  1.000000e+00  7.000000e+00  0.000000e+00   \n",
       "50%    1.620000e+02  1.620000e+02  1.000000e+00  1.000000e+01  5.000000e-01   \n",
       "75%    2.340000e+02  2.340000e+02  1.000000e+00  1.550000e+01  2.500000e+00   \n",
       "max    2.650000e+02  2.650000e+02  5.000000e+00  4.010923e+05  3.350000e+01   \n",
       "\n",
       "            mta_tax    tip_amount  tolls_amount  improvement_surcharge  \\\n",
       "count  1.914516e+07  1.914516e+07  1.914516e+07           1.914516e+07   \n",
       "mean   4.899948e-01  2.627932e+00  4.918875e-01           2.964044e-01   \n",
       "std    8.817076e-02  3.177734e+00  1.960186e+00           4.593910e-02   \n",
       "min   -5.000000e-01 -4.100000e+02 -8.300000e+01          -3.000000e-01   \n",
       "25%    5.000000e-01  9.300000e-01  0.000000e+00           3.000000e-01   \n",
       "50%    5.000000e-01  2.070000e+00  0.000000e+00           3.000000e-01   \n",
       "75%    5.000000e-01  3.240000e+00  0.000000e+00           3.000000e-01   \n",
       "max    1.710000e+01  1.400160e+03  9.118700e+02           3.000000e-01   \n",
       "\n",
       "       total_amount  congestion_surcharge   airport_fee      duration  \n",
       "count  1.914516e+07          1.914516e+07  1.914516e+07  1.914516e+07  \n",
       "mean   2.066681e+01          2.291229e+00  8.946139e-02  1.668648e+01  \n",
       "std    1.304585e+02          7.328814e-01  3.248929e-01  5.261282e+01  \n",
       "min   -2.567800e+03         -2.500000e+00 -1.250000e+00 -7.175993e+04  \n",
       "25%    1.180000e+01          2.500000e+00  0.000000e+00  7.133333e+00  \n",
       "50%    1.536000e+01          2.500000e+00  0.000000e+00  1.168333e+01  \n",
       "75%    2.180000e+01          2.500000e+00  0.000000e+00  1.881667e+01  \n",
       "max    4.010956e+05          2.750000e+00  1.250000e+00  8.513183e+03  "
      ]
     },
     "execution_count": 93,
     "metadata": {},
     "output_type": "execute_result"
    }
   ],
   "source": [
    "data.describe()"
   ]
  },
  {
   "cell_type": "code",
   "execution_count": 22,
   "id": "fa8114f7",
   "metadata": {},
   "outputs": [
    {
     "data": {
      "text/plain": [
       "1.0    14204245\n",
       "2.0     2864126\n",
       "3.0      745780\n",
       "0.0      403221\n",
       "5.0      366017\n",
       "4.0      315029\n",
       "6.0      246538\n",
       "7.0         105\n",
       "8.0          78\n",
       "9.0          19\n",
       "Name: passenger_count, dtype: int64"
      ]
     },
     "execution_count": 22,
     "metadata": {},
     "output_type": "execute_result"
    }
   ],
   "source": [
    "data.passenger_count.value_counts()"
   ]
  },
  {
   "cell_type": "code",
   "execution_count": 104,
   "id": "7abcbdd0",
   "metadata": {},
   "outputs": [],
   "source": [
    "data_new = data[[\"duration\",\"passenger_count\",\"trip_distance\",\"extra\",\"mta_tax\",'tip_amount', 'tolls_amount', 'improvement_surcharge',\n",
    "        'congestion_surcharge', 'airport_fee','total_amount']]"
   ]
  },
  {
   "cell_type": "code",
   "execution_count": 105,
   "id": "d92c338f",
   "metadata": {},
   "outputs": [],
   "source": [
    "def remove_outliers(df,columns,n_std):\n",
    "    for col in columns:\n",
    "        print('Working on column: {}'.format(col))\n",
    "        \n",
    "        mean = df[col].mean()\n",
    "        sd = df[col].std()\n",
    "        \n",
    "        df = df[(df[col] <= mean+(n_std*sd))]\n",
    "        \n",
    "    return df"
   ]
  },
  {
   "cell_type": "code",
   "execution_count": 106,
   "id": "77da47f7",
   "metadata": {},
   "outputs": [
    {
     "name": "stdout",
     "output_type": "stream",
     "text": [
      "Working on column: duration\n",
      "Working on column: passenger_count\n",
      "Working on column: trip_distance\n",
      "Working on column: extra\n",
      "Working on column: mta_tax\n",
      "Working on column: tip_amount\n",
      "Working on column: tolls_amount\n",
      "Working on column: improvement_surcharge\n",
      "Working on column: congestion_surcharge\n",
      "Working on column: airport_fee\n",
      "Working on column: total_amount\n"
     ]
    }
   ],
   "source": [
    "data_new = remove_outliers(data_new,[\"duration\",\"passenger_count\",\"trip_distance\",\"extra\",\"mta_tax\",'tip_amount', 'tolls_amount', 'improvement_surcharge',\n",
    "        'congestion_surcharge', 'airport_fee','total_amount'],3)"
   ]
  },
  {
   "cell_type": "code",
   "execution_count": 107,
   "id": "88106636",
   "metadata": {},
   "outputs": [
    {
     "data": {
      "text/html": [
       "<div>\n",
       "<style scoped>\n",
       "    .dataframe tbody tr th:only-of-type {\n",
       "        vertical-align: middle;\n",
       "    }\n",
       "\n",
       "    .dataframe tbody tr th {\n",
       "        vertical-align: top;\n",
       "    }\n",
       "\n",
       "    .dataframe thead th {\n",
       "        text-align: right;\n",
       "    }\n",
       "</style>\n",
       "<table border=\"1\" class=\"dataframe\">\n",
       "  <thead>\n",
       "    <tr style=\"text-align: right;\">\n",
       "      <th></th>\n",
       "      <th>duration</th>\n",
       "      <th>passenger_count</th>\n",
       "      <th>trip_distance</th>\n",
       "      <th>extra</th>\n",
       "      <th>mta_tax</th>\n",
       "      <th>tip_amount</th>\n",
       "      <th>tolls_amount</th>\n",
       "      <th>improvement_surcharge</th>\n",
       "      <th>congestion_surcharge</th>\n",
       "      <th>airport_fee</th>\n",
       "      <th>total_amount</th>\n",
       "    </tr>\n",
       "  </thead>\n",
       "  <tbody>\n",
       "    <tr>\n",
       "      <th>count</th>\n",
       "      <td>1.656071e+07</td>\n",
       "      <td>1.656071e+07</td>\n",
       "      <td>1.656071e+07</td>\n",
       "      <td>1.656071e+07</td>\n",
       "      <td>1.656071e+07</td>\n",
       "      <td>1.656071e+07</td>\n",
       "      <td>1.656071e+07</td>\n",
       "      <td>1.656071e+07</td>\n",
       "      <td>1.656071e+07</td>\n",
       "      <td>1.656071e+07</td>\n",
       "      <td>1.656071e+07</td>\n",
       "    </tr>\n",
       "    <tr>\n",
       "      <th>mean</th>\n",
       "      <td>1.257976e+01</td>\n",
       "      <td>1.255661e+00</td>\n",
       "      <td>2.232320e+00</td>\n",
       "      <td>1.071828e+00</td>\n",
       "      <td>4.915215e-01</td>\n",
       "      <td>2.080522e+00</td>\n",
       "      <td>3.601646e-04</td>\n",
       "      <td>2.959350e-01</td>\n",
       "      <td>2.378477e+00</td>\n",
       "      <td>-7.881607e-04</td>\n",
       "      <td>1.631688e+01</td>\n",
       "    </tr>\n",
       "    <tr>\n",
       "      <th>std</th>\n",
       "      <td>1.956574e+01</td>\n",
       "      <td>6.419580e-01</td>\n",
       "      <td>2.037588e+00</td>\n",
       "      <td>1.214989e+00</td>\n",
       "      <td>8.585708e-02</td>\n",
       "      <td>1.705412e+00</td>\n",
       "      <td>1.584430e-01</td>\n",
       "      <td>4.889939e-02</td>\n",
       "      <td>5.966175e-01</td>\n",
       "      <td>3.137801e-02</td>\n",
       "      <td>8.617303e+00</td>\n",
       "    </tr>\n",
       "    <tr>\n",
       "      <th>min</th>\n",
       "      <td>-7.175993e+04</td>\n",
       "      <td>0.000000e+00</td>\n",
       "      <td>0.000000e+00</td>\n",
       "      <td>-7.000000e+00</td>\n",
       "      <td>-5.000000e-01</td>\n",
       "      <td>-4.100000e+02</td>\n",
       "      <td>-8.300000e+01</td>\n",
       "      <td>-3.000000e-01</td>\n",
       "      <td>-2.500000e+00</td>\n",
       "      <td>-1.250000e+00</td>\n",
       "      <td>-2.567800e+03</td>\n",
       "    </tr>\n",
       "    <tr>\n",
       "      <th>25%</th>\n",
       "      <td>6.766667e+00</td>\n",
       "      <td>1.000000e+00</td>\n",
       "      <td>1.030000e+00</td>\n",
       "      <td>0.000000e+00</td>\n",
       "      <td>5.000000e-01</td>\n",
       "      <td>1.000000e+00</td>\n",
       "      <td>0.000000e+00</td>\n",
       "      <td>3.000000e-01</td>\n",
       "      <td>2.500000e+00</td>\n",
       "      <td>0.000000e+00</td>\n",
       "      <td>1.175000e+01</td>\n",
       "    </tr>\n",
       "    <tr>\n",
       "      <th>50%</th>\n",
       "      <td>1.075000e+01</td>\n",
       "      <td>1.000000e+00</td>\n",
       "      <td>1.680000e+00</td>\n",
       "      <td>5.000000e-01</td>\n",
       "      <td>5.000000e-01</td>\n",
       "      <td>2.000000e+00</td>\n",
       "      <td>0.000000e+00</td>\n",
       "      <td>3.000000e-01</td>\n",
       "      <td>2.500000e+00</td>\n",
       "      <td>0.000000e+00</td>\n",
       "      <td>1.475000e+01</td>\n",
       "    </tr>\n",
       "    <tr>\n",
       "      <th>75%</th>\n",
       "      <td>1.636667e+01</td>\n",
       "      <td>1.000000e+00</td>\n",
       "      <td>2.700000e+00</td>\n",
       "      <td>2.500000e+00</td>\n",
       "      <td>5.000000e-01</td>\n",
       "      <td>2.960000e+00</td>\n",
       "      <td>0.000000e+00</td>\n",
       "      <td>3.000000e-01</td>\n",
       "      <td>2.500000e+00</td>\n",
       "      <td>0.000000e+00</td>\n",
       "      <td>1.903000e+01</td>\n",
       "    </tr>\n",
       "    <tr>\n",
       "      <th>max</th>\n",
       "      <td>1.743333e+02</td>\n",
       "      <td>4.000000e+00</td>\n",
       "      <td>1.551000e+02</td>\n",
       "      <td>4.800000e+00</td>\n",
       "      <td>5.000000e-01</td>\n",
       "      <td>1.210000e+01</td>\n",
       "      <td>5.250000e+00</td>\n",
       "      <td>3.000000e-01</td>\n",
       "      <td>2.750000e+00</td>\n",
       "      <td>0.000000e+00</td>\n",
       "      <td>4.303000e+02</td>\n",
       "    </tr>\n",
       "  </tbody>\n",
       "</table>\n",
       "</div>"
      ],
      "text/plain": [
       "           duration  passenger_count  trip_distance         extra  \\\n",
       "count  1.656071e+07     1.656071e+07   1.656071e+07  1.656071e+07   \n",
       "mean   1.257976e+01     1.255661e+00   2.232320e+00  1.071828e+00   \n",
       "std    1.956574e+01     6.419580e-01   2.037588e+00  1.214989e+00   \n",
       "min   -7.175993e+04     0.000000e+00   0.000000e+00 -7.000000e+00   \n",
       "25%    6.766667e+00     1.000000e+00   1.030000e+00  0.000000e+00   \n",
       "50%    1.075000e+01     1.000000e+00   1.680000e+00  5.000000e-01   \n",
       "75%    1.636667e+01     1.000000e+00   2.700000e+00  2.500000e+00   \n",
       "max    1.743333e+02     4.000000e+00   1.551000e+02  4.800000e+00   \n",
       "\n",
       "            mta_tax    tip_amount  tolls_amount  improvement_surcharge  \\\n",
       "count  1.656071e+07  1.656071e+07  1.656071e+07           1.656071e+07   \n",
       "mean   4.915215e-01  2.080522e+00  3.601646e-04           2.959350e-01   \n",
       "std    8.585708e-02  1.705412e+00  1.584430e-01           4.889939e-02   \n",
       "min   -5.000000e-01 -4.100000e+02 -8.300000e+01          -3.000000e-01   \n",
       "25%    5.000000e-01  1.000000e+00  0.000000e+00           3.000000e-01   \n",
       "50%    5.000000e-01  2.000000e+00  0.000000e+00           3.000000e-01   \n",
       "75%    5.000000e-01  2.960000e+00  0.000000e+00           3.000000e-01   \n",
       "max    5.000000e-01  1.210000e+01  5.250000e+00           3.000000e-01   \n",
       "\n",
       "       congestion_surcharge   airport_fee  total_amount  \n",
       "count          1.656071e+07  1.656071e+07  1.656071e+07  \n",
       "mean           2.378477e+00 -7.881607e-04  1.631688e+01  \n",
       "std            5.966175e-01  3.137801e-02  8.617303e+00  \n",
       "min           -2.500000e+00 -1.250000e+00 -2.567800e+03  \n",
       "25%            2.500000e+00  0.000000e+00  1.175000e+01  \n",
       "50%            2.500000e+00  0.000000e+00  1.475000e+01  \n",
       "75%            2.500000e+00  0.000000e+00  1.903000e+01  \n",
       "max            2.750000e+00  0.000000e+00  4.303000e+02  "
      ]
     },
     "execution_count": 107,
     "metadata": {},
     "output_type": "execute_result"
    }
   ],
   "source": [
    "data_new.describe()"
   ]
  },
  {
   "cell_type": "code",
   "execution_count": 108,
   "id": "f4738824",
   "metadata": {},
   "outputs": [
    {
     "data": {
      "image/png": "[encoded data removed]",
      "text/plain": [
       "<Figure size 432x288 with 1 Axes>"
      ]
     },
     "metadata": {
      "needs_background": "light"
     },
     "output_type": "display_data"
    },
    {
     "data": {
      "image/png": "[encoded data removed]",
      "text/plain": [
       "<Figure size 432x288 with 1 Axes>"
      ]
     },
     "metadata": {
      "needs_background": "light"
     },
     "output_type": "display_data"
    },
    {
     "data": {
      "image/png": "[encoded data removed]",
      "text/plain": [
       "<Figure size 432x288 with 1 Axes>"
      ]
     },
     "metadata": {
      "needs_background": "light"
     },
     "output_type": "display_data"
    },
    {
     "data": {
      "image/png": "[encoded data removed]",
      "text/plain": [
       "<Figure size 432x288 with 1 Axes>"
      ]
     },
     "metadata": {
      "needs_background": "light"
     },
     "output_type": "display_data"
    },
    {
     "data": {
      "image/png": "[encoded data removed]",
      "text/plain": [
       "<Figure size 432x288 with 1 Axes>"
      ]
     },
     "metadata": {
      "needs_background": "light"
     },
     "output_type": "display_data"
    },
    {
     "data": {
      "image/png": "[encoded data removed]",
      "text/plain": [
       "<Figure size 432x288 with 1 Axes>"
      ]
     },
     "metadata": {
      "needs_background": "light"
     },
     "output_type": "display_data"
    },
    {
     "data": {
      "image/png": "[encoded data removed]",
      "text/plain": [
       "<Figure size 432x288 with 1 Axes>"
      ]
     },
     "metadata": {
      "needs_background": "light"
     },
     "output_type": "display_data"
    },
    {
     "data": {
      "image/png": "[encoded data removed]",
      "text/plain": [
       "<Figure size 432x288 with 1 Axes>"
      ]
     },
     "metadata": {
      "needs_background": "light"
     },
     "output_type": "display_data"
    },
    {
     "data": {
      "image/png": "[encoded data removed]",
      "text/plain": [
       "<Figure size 432x288 with 1 Axes>"
      ]
     },
     "metadata": {
      "needs_background": "light"
     },
     "output_type": "display_data"
    },
    {
     "data": {
      "image/png": "[encoded data removed]",
      "text/plain": [
       "<Figure size 432x288 with 1 Axes>"
      ]
     },
     "metadata": {
      "needs_background": "light"
     },
     "output_type": "display_data"
    },
    {
     "data": {
      "image/png": "[encoded data removed]",
      "text/plain": [
       "<Figure size 432x288 with 1 Axes>"
      ]
     },
     "metadata": {
      "needs_background": "light"
     },
     "output_type": "display_data"
    }
   ],
   "source": [
    "for i in [\"duration\",\"passenger_count\",\"trip_distance\",\"extra\",\"mta_tax\",'tip_amount', 'tolls_amount', 'improvement_surcharge',\n",
    "        'congestion_surcharge', 'airport_fee','total_amount']:\n",
    "    data_new[i].value_counts().hist(bins = 20)\n",
    "    plt.title(i)\n",
    "    plt.xlabel('x lable')\n",
    "    plt.ylabel('y lable')\n",
    "    plt.show()"
   ]
  },
  {
   "cell_type": "code",
   "execution_count": 109,
   "id": "38620fec",
   "metadata": {},
   "outputs": [
    {
     "data": {
      "text/plain": [
       "<AxesSubplot:>"
      ]
     },
     "execution_count": 109,
     "metadata": {},
     "output_type": "execute_result"
    },
    {
     "data": {
      "image/png": "[encoded data removed]",
      "text/plain": [
       "<Figure size 432x288 with 2 Axes>"
      ]
     },
     "metadata": {
      "needs_background": "light"
     },
     "output_type": "display_data"
    }
   ],
   "source": [
    "import seaborn as sns\n",
    "%matplotlib inline\n",
    "\n",
    "\n",
    "# calculate the correlation matrix\n",
    "corr = data_new.corr()\n",
    "# plot the heatmap\n",
    "sns.heatmap(corr, \n",
    "        xticklabels=corr.columns,\n",
    "        yticklabels=corr.columns,\n",
    "             cmap=plt.cm.Reds)"
   ]
  },
  {
   "cell_type": "code",
   "execution_count": 121,
   "id": "5b4b01db",
   "metadata": {},
   "outputs": [],
   "source": [
    "from sklearn.model_selection import train_test_split\n",
    "from sklearn.model_selection import KFold\n",
    "from sklearn.model_selection import cross_val_score\n",
    "from sklearn.linear_model import LinearRegression\n",
    "from sklearn.metrics import mean_squared_error\n",
    "from numpy import mean\n",
    "from numpy import absolute\n",
    "from numpy import sqrt"
   ]
  },
  {
   "cell_type": "code",
   "execution_count": 110,
   "id": "2c828b80",
   "metadata": {},
   "outputs": [],
   "source": [
    "X = data_new.drop('total_amount', axis=1)\n",
    "y = data_new['total_amount']"
   ]
  },
  {
   "cell_type": "code",
   "execution_count": 111,
   "id": "b9551aac",
   "metadata": {},
   "outputs": [
    {
     "data": {
      "text/plain": [
       "duration                 float64\n",
       "passenger_count          float64\n",
       "trip_distance            float64\n",
       "extra                    float64\n",
       "mta_tax                  float64\n",
       "tip_amount               float64\n",
       "tolls_amount             float64\n",
       "improvement_surcharge    float64\n",
       "congestion_surcharge     float64\n",
       "airport_fee              float64\n",
       "dtype: object"
      ]
     },
     "execution_count": 111,
     "metadata": {},
     "output_type": "execute_result"
    }
   ],
   "source": [
    "X.dtypes"
   ]
  },
  {
   "cell_type": "code",
   "execution_count": 112,
   "id": "9fab6d31",
   "metadata": {},
   "outputs": [],
   "source": [
    "X_tr =X.iloc[:-10000,:]\n",
    "Y_tr =y.iloc[:-10000]\n",
    "X_te =X.iloc[-10000:,:]\n",
    "Y_te =y.iloc[-10000:]"
   ]
  },
  {
   "cell_type": "code",
   "execution_count": 116,
   "id": "b9789b5e",
   "metadata": {},
   "outputs": [
    {
     "name": "stdout",
     "output_type": "stream",
     "text": [
      "(16550708, 10)\n",
      "(16550708,)\n",
      "(10000, 10)\n",
      "(10000,)\n"
     ]
    }
   ],
   "source": [
    "print(X_tr.shape)\n",
    "print(Y_tr.shape)\n",
    "print(X_te.shape)\n",
    "print(Y_te.shape)"
   ]
  },
  {
   "cell_type": "code",
   "execution_count": 117,
   "id": "5e382e91",
   "metadata": {},
   "outputs": [],
   "source": [
    "\n",
    "\n",
    "cv = KFold(n_splits=10, random_state=1, shuffle=True)\n",
    "\n",
    "\n",
    "model = LinearRegression()\n",
    "\n",
    "scores = cross_val_score(model,X_tr , Y_tr, scoring='neg_mean_absolute_error',\n",
    "                         cv=cv, n_jobs=-1)"
   ]
  },
  {
   "cell_type": "code",
   "execution_count": 118,
   "id": "66f4b5c3",
   "metadata": {},
   "outputs": [
    {
     "data": {
      "text/plain": [
       "1.292709250376609"
      ]
     },
     "execution_count": 118,
     "metadata": {},
     "output_type": "execute_result"
    }
   ],
   "source": [
    "sqrt(mean(absolute(scores)))"
   ]
  },
  {
   "cell_type": "code",
   "execution_count": 119,
   "id": "53c33a3b",
   "metadata": {},
   "outputs": [
    {
     "data": {
      "text/plain": [
       "LinearRegression()"
      ]
     },
     "execution_count": 119,
     "metadata": {},
     "output_type": "execute_result"
    }
   ],
   "source": [
    "model.fit(X_tr,Y_tr)"
   ]
  },
  {
   "cell_type": "code",
   "execution_count": 122,
   "id": "607c3abd",
   "metadata": {},
   "outputs": [],
   "source": [
    "y_p=model.predict(X_te)"
   ]
  },
  {
   "cell_type": "code",
   "execution_count": 125,
   "id": "a89e0d8e",
   "metadata": {},
   "outputs": [
    {
     "data": {
      "text/plain": [
       "15.48136132222917"
      ]
     },
     "execution_count": 125,
     "metadata": {},
     "output_type": "execute_result"
    }
   ],
   "source": [
    "mean_squared_error(y_p,Y_te)"
   ]
  },
  {
   "cell_type": "code",
   "execution_count": 126,
   "id": "1f4ea314",
   "metadata": {},
   "outputs": [],
   "source": [
    "from sklearn.feature_selection import RFE"
   ]
  },
  {
   "cell_type": "code",
   "execution_count": 136,
   "id": "5d15b786",
   "metadata": {},
   "outputs": [
    {
     "data": {
      "text/plain": [
       "Pipeline(steps=[('s',\n",
       "                 RFE(estimator=LinearRegression(), n_features_to_select=7)),\n",
       "                ('m', LinearRegression())])"
      ]
     },
     "execution_count": 136,
     "metadata": {},
     "output_type": "execute_result"
    }
   ],
   "source": [
    "from sklearn.pipeline import Pipeline\n",
    "rfe = RFE(estimator=LinearRegression(), n_features_to_select=7)\n",
    "pipeline = Pipeline(steps=[('s',rfe),('m',model)])\n",
    "pipeline.fit(X_tr, Y_tr)"
   ]
  },
  {
   "cell_type": "code",
   "execution_count": 137,
   "id": "969a2676",
   "metadata": {},
   "outputs": [
    {
     "data": {
      "text/plain": [
       "15.828882824832544"
      ]
     },
     "execution_count": 137,
     "metadata": {},
     "output_type": "execute_result"
    }
   ],
   "source": [
    "y_p1=pipeline.predict(X_te)\n",
    "mean_squared_error(y_p1,Y_te)"
   ]
  },
  {
   "cell_type": "code",
   "execution_count": 140,
   "id": "7a8d0a63",
   "metadata": {},
   "outputs": [
    {
     "data": {
      "text/plain": [
       "array([False, False,  True, False,  True,  True,  True,  True,  True,\n",
       "        True])"
      ]
     },
     "execution_count": 140,
     "metadata": {},
     "output_type": "execute_result"
    }
   ],
   "source": [
    "rfe.support_"
   ]
  },
  {
   "cell_type": "code",
   "execution_count": 141,
   "id": "6b72e857",
   "metadata": {},
   "outputs": [
    {
     "data": {
      "text/plain": [
       "array([4, 2, 1, 3, 1, 1, 1, 1, 1, 1])"
      ]
     },
     "execution_count": 141,
     "metadata": {},
     "output_type": "execute_result"
    }
   ],
   "source": [
    "rfe.ranking_"
   ]
  },
  {
   "cell_type": "code",
   "execution_count": 142,
   "id": "507a7f1b",
   "metadata": {},
   "outputs": [
    {
     "data": {
      "text/plain": [
       "['duration',\n",
       " 'passenger_count',\n",
       " 'trip_distance',\n",
       " 'extra',\n",
       " 'mta_tax',\n",
       " 'tip_amount',\n",
       " 'tolls_amount',\n",
       " 'improvement_surcharge',\n",
       " 'congestion_surcharge',\n",
       " 'airport_fee',\n",
       " 'total_amount']"
      ]
     },
     "execution_count": 142,
     "metadata": {},
     "output_type": "execute_result"
    }
   ],
   "source": [
    "[\"duration\",\"passenger_count\",\"trip_distance\",\"extra\",\"mta_tax\",'tip_amount', 'tolls_amount', 'improvement_surcharge',\n",
    "        'congestion_surcharge', 'airport_fee','total_amount']"
   ]
  },
  {
   "cell_type": "code",
   "execution_count": null,
   "id": "2a1a243a",
   "metadata": {},
   "outputs": [],
   "source": []
  }
 ],
 "metadata": {
  "kernelspec": {
   "display_name": "Python 3 (ipykernel)",
   "language": "python",
   "name": "python3"
  },
  "language_info": {
   "codemirror_mode": {
    "name": "ipython",
    "version": 3
   },
   "file_extension": ".py",
   "mimetype": "text/x-python",
   "name": "python",
   "nbconvert_exporter": "python",
   "pygments_lexer": "ipython3",
   "version": "3.9.12"
  }
 },
 "nbformat": 4,
 "nbformat_minor": 5
}
